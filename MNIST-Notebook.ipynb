{
 "cells": [
  {
   "cell_type": "markdown",
   "metadata": {
    "collapsed": true
   },
   "source": [
    "# Tensorflow - Using the MNIST Data Set\n",
    "This notebook contains code for creating the model for the Tensorflow project completed as part of my course work for the module Emerging Technologies, for further documentation refer to the following link: https://github.com/RicardsGraudins/Emerging-Technologies-Project\n",
    "\n",
    "**Step 1:** Get the MNIST Data Set."
   ]
  },
  {
   "cell_type": "code",
   "execution_count": 35,
   "metadata": {},
   "outputs": [],
   "source": [
    "#Importing all the necessary libraries\n",
    "import tensorflow as tf\n",
    "import numpy as np\n",
    "import matplotlib.pyplot as pl\n",
    "from PIL import Image\n",
    "import tflearn"
   ]
  },
  {
   "cell_type": "code",
   "execution_count": 36,
   "metadata": {},
   "outputs": [
    {
     "name": "stdout",
     "output_type": "stream",
     "text": [
      "Extracting MNIST_Data/train-images-idx3-ubyte.gz\n",
      "Extracting MNIST_Data/train-labels-idx1-ubyte.gz\n",
      "Extracting MNIST_Data/t10k-images-idx3-ubyte.gz\n",
      "Extracting MNIST_Data/t10k-labels-idx1-ubyte.gz\n"
     ]
    }
   ],
   "source": [
    "#Importing data directly from tensorflow\n",
    "#alternatively we can download the data set from\n",
    "#http://yann.lecun.com/exdb/mnist/\n",
    "from tensorflow.examples.tutorials.mnist import input_data\n",
    "\n",
    "#One hot encoding is important here to get an array\n",
    "#of 0's and 1 - commonly used for machine learning\n",
    "mnist = input_data.read_data_sets(\"MNIST_Data/\", one_hot=True)"
   ]
  },
  {
   "cell_type": "markdown",
   "metadata": {},
   "source": [
    "**Step 2:** Quick overview of the data set we're working with."
   ]
  },
  {
   "cell_type": "code",
   "execution_count": 37,
   "metadata": {},
   "outputs": [
    {
     "name": "stdout",
     "output_type": "stream",
     "text": [
      "Shape of images in training dataset (55000, 784)\n",
      "Shape of classes in training dataset (55000, 10)\n",
      "Shape of images in testing dataset (10000, 784)\n",
      "Shape of classes in testing dataset (10000, 10)\n"
     ]
    }
   ],
   "source": [
    "#Training set - 55,000 Images, 784(28x28) Dimensional Vector Space\n",
    "#             - 55,000 Labels, 10 classes 0-9 Digits\n",
    "print(\"Shape of images in training dataset {}\".format(mnist.train.images.shape))\n",
    "print(\"Shape of classes in training dataset {}\".format(mnist.train.labels.shape))\n",
    "#Testing set - 10,000 Images, 784(28x28) Dimensional Vector Space\n",
    "#            - 10,000 Labels, 10 classes 0-9 Digits\n",
    "print(\"Shape of images in testing dataset {}\".format(mnist.test.images.shape))\n",
    "print(\"Shape of classes in testing dataset {}\".format(mnist.test.labels.shape))"
   ]
  },
  {
   "cell_type": "code",
   "execution_count": 38,
   "metadata": {},
   "outputs": [
    {
     "data": {
      "image/png": "[encoded data removed]",
      "text/plain": [
       "<matplotlib.figure.Figure at 0x24f06393ba8>"
      ]
     },
     "metadata": {},
     "output_type": "display_data"
    }
   ],
   "source": [
    "#Plot sample image at index 1(index 0 looks too sketchy) of the training set\n",
    "#Reshape 28x28 and use greyscale\n",
    "sample = mnist.train.images[1].reshape(28,28)\n",
    "pl.title('Sample Image')\n",
    "pl.axis('off')\n",
    "pl.imshow(sample, cmap = 'gray')\n",
    "pl.show()"
   ]
  },
  {
   "cell_type": "code",
   "execution_count": 39,
   "metadata": {
    "scrolled": true
   },
   "outputs": [
    {
     "data": {
      "image/png": "[encoded data removed]",
      "text/plain": [
       "<matplotlib.figure.Figure at 0x24f05ba7588>"
      ]
     },
     "metadata": {},
     "output_type": "display_data"
    }
   ],
   "source": [
    "#Reshaping all the training images 28x28\n",
    "#in order to plot mean image\n",
    "train_images = mnist.train.images\n",
    "train_images = np.reshape(train_images,[train_images.shape[0],28,28])\n",
    "mean = np.mean(train_images, axis = 0)\n",
    "\n",
    "#Plot the mean\n",
    "pl.title('Mean Image of Training Set')\n",
    "pl.imshow(mean)\n",
    "pl.colorbar()\n",
    "pl.axis('off')\n",
    "pl.show()\n",
    "\n",
    "#Mean image provides a visual representation of where the digits\n",
    "#are drawn in the images"
   ]
  },
  {
   "cell_type": "markdown",
   "metadata": {},
   "source": [
    "**Step 3:** Build the model."
   ]
  },
  {
   "cell_type": "code",
   "execution_count": 40,
   "metadata": {},
   "outputs": [],
   "source": [
    "#Placeholders\n",
    "#None means we can input any number of images\n",
    "#Input has 784 dimensional vector (28x28)\n",
    "#Output has to be 1 out of 10 outcomes, 0-9 digit\n",
    "x = tf.placeholder(tf.float32,shape=[None, 784])\n",
    "y_ = tf.placeholder(tf.float32,shape=[None, 10])\n",
    "\n",
    "#Input Layer: -1 meaning no fixed batch dimension\n",
    "#28x28 reshape and 1 for greyscale\n",
    "x_input = tf.reshape(x,[-1,28,28,1], name='input')\n",
    "\n",
    "#Layer 1: 32 output filters, filter size 5x5,\n",
    "#stride of 2, same padding and RELU activation\n",
    "layer1 = tflearn.layers.conv.conv_2d(x_input, nb_filter=32, filter_size=5, strides=[1,1,1,1],padding='same', activation='relu', regularizer=\"L2\", name='layer1')\n",
    "\n",
    "#Pooling layer 1: Preforms max pooling 2x2 filter\n",
    "#and stride of 2 on layer 1\n",
    "out_layer1 = tflearn.layers.conv.max_pool_2d(layer1, 2)\n",
    "\n",
    "#Layer 2: 32 output filters, filter size 5x5,\n",
    "#stride of 2, same padding and RELU activation\n",
    "layer2 = tflearn.layers.conv.conv_2d(out_layer1, nb_filter=32, filter_size=5, strides=[1,1,1,1],padding='same', activation='relu',  regularizer=\"L2\", name='layer2')\n",
    "\n",
    "#Pooling layer 2: Preforms max pooling 2x2 filter\n",
    "#and stride of 2 on layer 2\n",
    "out_layer2 = tflearn.layers.conv.max_pool_2d(layer2, 2)\n",
    "\n",
    "#Fully connected layer takes in layer 2 after pooling and has 1024 neurons\n",
    "fcl = tflearn.layers.core.fully_connected(out_layer2, 1024, activation='relu')\n",
    "\n",
    "#Dropout - simple way to prevent NN overfitting\n",
    "fcl_dropout = tflearn.layers.core.dropout(fcl, 0.8)\n",
    "\n",
    "#Predicted output using softmax\n",
    "y = tflearn.layers.core.fully_connected(fcl_dropout, 10, activation='softmax', name='output')\n",
    "\n",
    "#Loss function\n",
    "cross_entropy = tf.reduce_mean(-tf.reduce_sum(y_ * tf.log(y), reduction_indices=[1]))\n",
    "\n",
    "#Optimiser\n",
    "#train_step = tf.train.AdamOptimizer(0.01).minimize(cross_entropy)\n",
    "train_step = tf.train.AdamOptimizer(1e-4).minimize(cross_entropy)\n",
    "\n",
    "#Accuracy of the model\n",
    "correct_prediction = tf.equal(tf.argmax(y,1), tf.argmax(y_,1))\n",
    "accuracy = tf.reduce_mean(tf.cast(correct_prediction, tf.float32))"
   ]
  },
  {
   "cell_type": "code",
   "execution_count": 41,
   "metadata": {},
   "outputs": [
    {
     "name": "stdout",
     "output_type": "stream",
     "text": [
      "Shape of input layer: [None, 28, 28, 1]\n",
      "Shape of first convolutional layer: [None, 14, 14, 32]\n",
      "Shape of second convolutional layer: [None, 7, 7, 32]\n",
      "Shape of fully connected layer: [None, 1024]\n",
      "Shape of output layer: [None, 10]\n"
     ]
    }
   ],
   "source": [
    "#Print layer shapes\n",
    "print(\"Shape of input layer: {}\".format(x_input.get_shape().as_list()))\n",
    "print(\"Shape of first convolutional layer: {}\".format(out_layer1.get_shape().as_list()))\n",
    "print(\"Shape of second convolutional layer: {}\".format(out_layer2.get_shape().as_list()))\n",
    "print(\"Shape of fully connected layer: {}\".format(fcl.get_shape().as_list()))\n",
    "print(\"Shape of output layer: {}\".format(y.get_shape().as_list()))"
   ]
  },
  {
   "cell_type": "markdown",
   "metadata": {},
   "source": [
    "**Step 4:** Train & test the model."
   ]
  },
  {
   "cell_type": "code",
   "execution_count": 42,
   "metadata": {
    "collapsed": true
   },
   "outputs": [],
   "source": [
    "#Create the session\n",
    "sess = tf.InteractiveSession()\n",
    "#Initialize the variables\n",
    "tf.global_variables_initializer().run()"
   ]
  },
  {
   "cell_type": "code",
   "execution_count": 43,
   "metadata": {},
   "outputs": [
    {
     "name": "stdout",
     "output_type": "stream",
     "text": [
      "0.9738\n"
     ]
    }
   ],
   "source": [
    "#Short training & testing session for now\n",
    "#Training the model\n",
    "for _ in range(1000):\n",
    "  batch_xs, batch_ys = mnist.train.next_batch(100)\n",
    "  sess.run(train_step, feed_dict={x: batch_xs, y_: batch_ys})\n",
    "    \n",
    "#Determine the accuracy using the testing set\n",
    "print(sess.run(accuracy, feed_dict={x: mnist.test.images, y_: mnist.test.labels}))"
   ]
  },
  {
   "cell_type": "markdown",
   "metadata": {},
   "source": [
    "# References\n",
    "https://www.tensorflow.org/get_started/mnist/beginners  \n",
    "https://www.tensorflow.org/get_started/mnist/pros   \n",
    "https://www.quora.com/What-is-one-hot-encoding-and-when-is-it-used-in-data-science  \n",
    "https://docs.scipy.org/doc/numpy-1.13.0/reference/generated/numpy.mean.html  \n",
    "https://matplotlib.org/api/colorbar_api.html  \n",
    "https://www.khanacademy.org/math/differential-equations/laplace-transform/convolution-integral/v/introduction-to-the-convolution  \n",
    "http://cs231n.github.io/convolutional-networks/  \n",
    "https://www.tensorflow.org/tutorials/layers  \n",
    "http://tflearn.org/examples/  \n",
    "http://tflearn.org/layers/conv/  \n",
    "http://tflearn.org/activations/"
   ]
  }
 ],
 "metadata": {
  "kernelspec": {
   "display_name": "Python 3",
   "language": "python",
   "name": "python3"
  },
  "language_info": {
   "codemirror_mode": {
    "name": "ipython",
    "version": 3
   },
   "file_extension": ".py",
   "mimetype": "text/x-python",
   "name": "python",
   "nbconvert_exporter": "python",
   "pygments_lexer": "ipython3",
   "version": "3.6.1"
  }
 },
 "nbformat": 4,
 "nbformat_minor": 2
}
